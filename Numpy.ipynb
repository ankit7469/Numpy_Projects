{
 "cells": [
  {
   "cell_type": "code",
   "execution_count": 6,
   "id": "6c196bef-1ae6-42ae-85c6-36f293e8baa3",
   "metadata": {},
   "outputs": [],
   "source": [
    "# What is numpy \n",
    "----------------------------\n",
    "1. Numpy( Numerical python) is a python library for numerical computing.\n",
    "2. It provides fast and efficient ways to work with arrays and matrices, and perform mathematical\n",
    "   operations on them.\n",
    "       \n",
    "Note-\n",
    "1. Python lists can store numbers, but they are slow for heavy calculations.\n",
    "2. NumPy arrays are faster, more memory-efficient, and come with lots of built-in functions.\n",
    "\n",
    "\n",
    "Key features\n",
    "-------------------------------\n",
    "1. N- dimensional arrays – Can store data in 1D, 2D, 3D, etc.\n",
    "2. Fast mathematical operations – Vectorized operations are much faster than loops.\n",
    "3. Linear algebra support – Matrix multiplication, determinants, eigenvalues.\n",
    "4. Random number generations – Useful for simulations and probabilistic models.\n",
    "5. Integration with other libraries – Pandas, Scikit-learn, TensorFlow, etc., all use NumPy arrays internally.\n",
    "\n",
    "\n",
    "Why is NumPy Important in Data Science & Analytics?\n",
    "------------------------------------------------------------------------\n",
    "\n",
    "1. Efficiency & Speed – Large datasets can be processed much faster than Python lists.\n",
    "2. Foundation for other libraries – Libraries like Pandas, Scikit-learn, Matplotlib, TensorFlow are built \n",
    "   on top of NumPy.\n",
    "3. Supports Vectorization – Perform operations on entire arrays without using loops, which is crucial for \n",
    "   big data.\n",
    "4. Mathematical & Statistical Operations – Mean, median, standard deviation, matrix operations, dot product, \n",
    "   linear algebra.\n",
    "5. Data Manipulation – Reshaping arrays, slicing, indexing, and broadcasting make data handling easy."
   ]
  },
  {
   "cell_type": "code",
   "execution_count": 65,
   "id": "efad310b-3b08-4cba-a6a7-5bf6292d1168",
   "metadata": {},
   "outputs": [
    {
     "name": "stdout",
     "output_type": "stream",
     "text": [
      "2.1.3\n"
     ]
    }
   ],
   "source": [
    "# version check \n",
    "import numpy as np\n",
    "print(np.__version__)"
   ]
  },
  {
   "cell_type": "code",
   "execution_count": 16,
   "id": "4c4d93c5-4f52-4438-a4eb-c844af4ce7b5",
   "metadata": {},
   "outputs": [
    {
     "name": "stdout",
     "output_type": "stream",
     "text": [
      "The array is [1 2 3 4 5]\n",
      "The matrix is\n",
      "[[1 2 3 4]\n",
      " [5 6 7 8]]\n"
     ]
    }
   ],
   "source": [
    "# creating arrays and matrix\n",
    "\n",
    "import numpy as np\n",
    "arr=np.array([1,2,3,4,5])\n",
    "print(\"The array is\",arr)\n",
    "\n",
    "import numpy as np\n",
    "print(\"The matrix is\")\n",
    "matrix=np.array([[1,2,3,4],[5,6,7,8]])\n",
    "print(matrix)"
   ]
  },
  {
   "cell_type": "code",
   "execution_count": 39,
   "id": "9acb51c2-e256-46d4-9842-7e73e81d1707",
   "metadata": {},
   "outputs": [
    {
     "name": "stdout",
     "output_type": "stream",
     "text": [
      "The zeros matrix are\n",
      "[[0. 0. 0. 0.]\n",
      " [0. 0. 0. 0.]\n",
      " [0. 0. 0. 0.]]\n",
      "The ones matrix are\n",
      "[[1. 1. 1. 1.]\n",
      " [1. 1. 1. 1.]\n",
      " [1. 1. 1. 1.]]\n",
      "The full matrix \n",
      "[[7 7 7 7]\n",
      " [7 7 7 7]\n",
      " [7 7 7 7]]\n",
      "The identity matrix is\n",
      "[[1. 0. 0. 0.]\n",
      " [0. 1. 0. 0.]\n",
      " [0. 0. 1. 0.]\n",
      " [0. 0. 0. 1.]]\n",
      "The random matrix is\n",
      "[[0.19952854 0.08747682]\n",
      " [0.68957058 0.36027544]]\n",
      "The randint matrix is\n",
      "[[1 5 8 5]\n",
      " [5 8 7 2]\n",
      " [6 8 7 8]]\n"
     ]
    }
   ],
   "source": [
    "# Array initialization\n",
    "# ----------------------------------\n",
    "\n",
    "#zeros array\n",
    "import numpy as np\n",
    "print(\"The zeros matrix are\")\n",
    "zeros=np.zeros([3,4])\n",
    "print(zeros)\n",
    "\n",
    "#ones array\n",
    "import numpy as np\n",
    "print(\"The ones matrix are\")\n",
    "ones=np.ones([3,4])\n",
    "print(ones)\n",
    "\n",
    "# full array\n",
    "print(\"The full matrix \")\n",
    "full=np.full([3,4],7)\n",
    "print(full)\n",
    "\n",
    "#identity matrix\n",
    "print(\"The identity matrix is\")\n",
    "identity=np.identity(4)                   # we can also use eye instead of identity\n",
    "print(identity)\n",
    "\n",
    "#random matrix\n",
    "print(\"The random matrix is\")\n",
    "random=np.random.rand(2,2)\n",
    "print(random)\n",
    "\n",
    "#random integer matrix\n",
    "print(\"The randint matrix is\")\n",
    "randint=np.random.randint(1,9,[3,4])\n",
    "print(randint)"
   ]
  },
  {
   "cell_type": "code",
   "execution_count": 43,
   "id": "24957c53-33f5-4b13-91c6-2b2fd91f3608",
   "metadata": {},
   "outputs": [
    {
     "name": "stdout",
     "output_type": "stream",
     "text": [
      "The matrix is - \n",
      "[[1 2 3 4]\n",
      " [4 5 6 7]]\n",
      "The shape of the amatrix is (2, 4)\n",
      "The dimensions of the matrix is 2\n",
      "The size of the matrix is 8\n",
      "The data types of the matrix is int64\n"
     ]
    }
   ],
   "source": [
    "# array properties\n",
    "\n",
    "print(\"The matrix is - \")\n",
    "arr = np.array([[1,2,3,4],[4,5,6,7]])\n",
    "print(arr)\n",
    "print(\"The shape of the amatrix is\",arr.shape)   \n",
    "print(\"The dimensions of the matrix is\",arr.ndim)    # 2 (dimensions)\n",
    "print(\"The size of the matrix is\",arr.size)          # 8 (total elements)\n",
    "print(\"The data types of the matrix is\",arr.dtype)   # int64 (depends on system)\n"
   ]
  },
  {
   "cell_type": "code",
   "execution_count": 45,
   "id": "2a8aa58f-1c8b-4773-be72-eddc33f1124c",
   "metadata": {},
   "outputs": [
    {
     "name": "stdout",
     "output_type": "stream",
     "text": [
      "10\n",
      "50\n",
      "[20 30 40]\n",
      "[10 20 30]\n",
      "[10 30 50]\n",
      "[50 40 30 20 10]\n"
     ]
    }
   ],
   "source": [
    "# Indexing and slicing\n",
    "\n",
    "import numpy as np\n",
    "arr = np.array([10, 20, 30, 40, 50])\n",
    "\n",
    "print(arr[0])       \n",
    "print(arr[-1])      \n",
    "print(arr[1:4])     \n",
    "print(arr[:3])      \n",
    "print(arr[::2])           # leave the element by 2 place    \n",
    "print(arr[::-1])          # Reverse indexing"
   ]
  },
  {
   "cell_type": "code",
   "execution_count": 47,
   "id": "13521e6d-77af-4c52-af26-8403200f0c6f",
   "metadata": {},
   "outputs": [
    {
     "name": "stdout",
     "output_type": "stream",
     "text": [
      "2\n",
      "[3 6 9]\n",
      "[4 5 6]\n",
      "[[2 3]\n",
      " [5 6]]\n"
     ]
    }
   ],
   "source": [
    "# for 2 d arrays\n",
    "matrix = np.array([[1,2,3],[4,5,6],[7,8,9]])\n",
    "\n",
    "print(matrix[0, 1])    # element at row 0, col 1 → 2\n",
    "print(matrix[:, 2])    # all rows, col 1 → [2 5 8]\n",
    "print(matrix[1, :])    # row 1 → [4 5 6]\n",
    "print(matrix[0:2, 1:3]) # rows 0-1, cols 1-2 → [[2 3],[5 6]]\n"
   ]
  },
  {
   "cell_type": "code",
   "execution_count": 49,
   "id": "7c5453c2-bfe7-47f0-a543-446b245d104f",
   "metadata": {},
   "outputs": [
    {
     "name": "stdout",
     "output_type": "stream",
     "text": [
      "The result is\n",
      "[5 7 9]\n",
      "[ 4 10 18]\n",
      "[1 4 9]\n",
      "[11 12 13]\n"
     ]
    }
   ],
   "source": [
    "# mathematical operations \n",
    "print(\"The result is\")\n",
    "a = np.array([1, 2, 3])\n",
    "b = np.array([4, 5, 6])\n",
    "\n",
    "print(a + b)   # [5 7 9]\n",
    "print(a * b)   # [ 4 10 18]\n",
    "print(a ** 2)  # [1 4 9]\n",
    "\n",
    "# Scalar operations\n",
    "print(a + 10)  # [11 12 13]\n"
   ]
  },
  {
   "cell_type": "code",
   "execution_count": 50,
   "id": "5d2e8764-3a84-426b-8e74-47a3cbfba702",
   "metadata": {},
   "outputs": [
    {
     "name": "stdout",
     "output_type": "stream",
     "text": [
      "[[19 22]\n",
      " [43 50]]\n",
      "[[19 22]\n",
      " [43 50]]\n",
      "[[1 3]\n",
      " [2 4]]\n"
     ]
    }
   ],
   "source": [
    "#matrix operatons\n",
    "\n",
    "print(\"The result is\")\n",
    "A = np.array([[1,2],[3,4]])\n",
    "B = np.array([[5,6],[7,8]])\n",
    "\n",
    "print(np.dot(A, B))      # Matrix multiplication\n",
    "print(A @ B)             # Same as dot\n",
    "print(np.transpose(A))   # Transpose\n"
   ]
  },
  {
   "cell_type": "code",
   "execution_count": 53,
   "id": "ad03ffd4-4106-43b1-b159-4703d36ae6bb",
   "metadata": {},
   "outputs": [
    {
     "name": "stdout",
     "output_type": "stream",
     "text": [
      "The result is\n",
      "30.0\n",
      "30.0\n",
      "14.142135623730951\n",
      "10\n",
      "50\n",
      "150\n",
      "<class 'numpy.ndarray'>\n"
     ]
    }
   ],
   "source": [
    "# Useful function\n",
    "\n",
    "print(\"The result is\")\n",
    "arr = np.array([10, 20, 30, 40, 50])\n",
    "\n",
    "print(np.mean(arr))   # 30.0\n",
    "print(np.median(arr)) # 30.0\n",
    "print(np.std(arr))    # Standard deviation\n",
    "print(np.min(arr))    # 10\n",
    "print(np.max(arr))    # 50\n",
    "print(np.sum(arr))    # 150\n"
   ]
  },
  {
   "cell_type": "code",
   "execution_count": 54,
   "id": "939af691-ef6e-4e4f-85fb-2e9a19686090",
   "metadata": {},
   "outputs": [
    {
     "name": "stdout",
     "output_type": "stream",
     "text": [
      "[0.37454012 0.95071431 0.73199394]\n",
      "[-1.11188012  0.31890218  0.27904129]\n",
      "[8 3 6 5 2]\n"
     ]
    }
   ],
   "source": [
    "# random module\n",
    "np.random.seed(42)  # reproducibility\n",
    "\n",
    "print(np.random.rand(3))           # 3 random floats\n",
    "print(np.random.randn(3))          # normal distribution\n",
    "print(np.random.randint(1, 10, 5)) # 5 random ints 1–9\n"
   ]
  },
  {
   "cell_type": "code",
   "execution_count": 58,
   "id": "73bd8753-3e2b-4a33-bdf2-0dcbc700c730",
   "metadata": {},
   "outputs": [
    {
     "name": "stdout",
     "output_type": "stream",
     "text": [
      "The matrix is [[1 2]\n",
      " [3 4]]\n",
      "-2.0000000000000004\n",
      "[[-2.   1. ]\n",
      " [ 1.5 -0.5]]\n",
      "[-0.37228132  5.37228132] [[-0.82456484 -0.41597356]\n",
      " [ 0.56576746 -0.90937671]]\n"
     ]
    }
   ],
   "source": [
    "# Linear algebra\n",
    "\n",
    "A = np.array([[1,2],[3,4]])\n",
    "print(\"The matrix is\",A)\n",
    "\n",
    "det = np.linalg.det(A)\n",
    "print(det)                  # Determinant\n",
    "\n",
    "inv = np.linalg.inv(A)      # Inverse\n",
    "print(inv)\n",
    "\n",
    "eigvals, eigvecs = np.linalg.eig(A) # Eigenvalues, Eigenvectors\n",
    "print(eigvals, eigvecs)\n"
   ]
  },
  {
   "cell_type": "code",
   "execution_count": 63,
   "id": "f6ab533b-b2e1-4b31-82e0-e8677ad92fbf",
   "metadata": {},
   "outputs": [
    {
     "name": "stdout",
     "output_type": "stream",
     "text": [
      "[1 2 3 4 5 6]\n",
      "[[1 2 3]\n",
      " [4 5 6]]\n",
      "[1 2 3 4 5 6]\n"
     ]
    }
   ],
   "source": [
    "# Reshaping and flattering\n",
    "\n",
    "arr = np.arange(1, 7)   # [1 2 3 4 5 6]\n",
    "print(arr)\n",
    "\n",
    "reshaped = arr.reshape(2,3)\n",
    "print(reshaped)\n",
    "\n",
    "flattened = reshaped.flatten()\n",
    "print(flattened)"
   ]
  },
  {
   "cell_type": "code",
   "execution_count": 1,
   "id": "697beaae-10ae-4e1d-804b-3f2b2b59d5a7",
   "metadata": {},
   "outputs": [
    {
     "name": "stdout",
     "output_type": "stream",
     "text": [
      "The point estimation is 3.14928\n"
     ]
    }
   ],
   "source": [
    "# Project-1 ----Monte carlo pi estimation using numpy and python \n",
    "---------------------------------------------------------\n",
    "# 1. Basically this project shows us how we can find the value of pi.\n",
    "# 2. Just take one square which contains 10000 points inside it.\n",
    "# 3. Now make an circle in it from its one corner and it almost contains 7850 points.\n",
    "# 4. This projects shows probability, simulation and Numpy vectorization.\n",
    "# 5. In this we learn - Random numbers with NumPy, Boolean arrays and sum, Vectorized operations (no loops!)\n",
    "\n",
    "import numpy as np\n",
    "n_points=100000                          # take points\n",
    "\n",
    "x=np.random.rand(n_points)               # Generate random x and y coordinates between 0 and 1\n",
    "y=np.random.rand(n_points)\n",
    "\n",
    "inside_circle=(x**2+y**2)<=1             # Check if points are inside the unit circle\n",
    "\n",
    "count_sum=np.sum(inside_circle)          # count the points inside the circle\n",
    "\n",
    "pi_estimate=4*(count_sum / n_points)     # now find the pi estimation.\n",
    "print(\"The point estimation is\",pi_estimate)"
   ]
  },
  {
   "cell_type": "code",
   "execution_count": 38,
   "id": "964e0ffb-fa24-48f0-8f9a-570b65420a56",
   "metadata": {},
   "outputs": [
    {
     "name": "stdout",
     "output_type": "stream",
     "text": [
      "Sum 2: Probability - 0.02833\n",
      "Sum 3: Probability - 0.05474\n",
      "Sum 4: Probability - 0.08272\n",
      "Sum 5: Probability - 0.11186\n",
      "Sum 6: Probability - 0.13878\n",
      "Sum 7: Probability - 0.1672\n",
      "Sum 8: Probability - 0.13877\n",
      "Sum 9: Probability - 0.11166\n",
      "Sum 10: Probability - 0.0825\n",
      "Sum 11: Probability - 0.05579\n",
      "Sum 12: Probability - 0.02765\n"
     ]
    }
   ],
   "source": [
    "# project-2 \n",
    "# Dice roll probabily estimation \n",
    "# In this we check  the probability of the sum of 2 dices (5,6,8,etc) at one time among 10000 chances.\n",
    "\n",
    "import numpy as np\n",
    "n_dice=10000\n",
    "\n",
    "dice1=np.random.randint(1,7,size=n_dice)             # Simulate two dice rolls\n",
    "dice2=np.random.randint(1,7,size=n_dice)\n",
    "\n",
    "sum=dice1+dice2                                      # sum \n",
    "\n",
    "values,counts= np.unique(sum,return_counts=True)     # Count frequency of each sum (2 to 12)  \n",
    "\n",
    "probability=(counts/n_dice)\n",
    "\n",
    "for val, prob in zip(values,probabilities):          #\n",
    "    print(f\"Sum {val}: Probability - {prob}\")"
   ]
  },
  {
   "cell_type": "code",
   "execution_count": null,
   "id": "0f1ef8ad-eb56-4ce9-90a1-419b3ebe7a63",
   "metadata": {},
   "outputs": [],
   "source": []
  }
 ],
 "metadata": {
  "kernelspec": {
   "display_name": "Python [conda env:base] *",
   "language": "python",
   "name": "conda-base-py"
  },
  "language_info": {
   "codemirror_mode": {
    "name": "ipython",
    "version": 3
   },
   "file_extension": ".py",
   "mimetype": "text/x-python",
   "name": "python",
   "nbconvert_exporter": "python",
   "pygments_lexer": "ipython3",
   "version": "3.13.5"
  }
 },
 "nbformat": 4,
 "nbformat_minor": 5
}
